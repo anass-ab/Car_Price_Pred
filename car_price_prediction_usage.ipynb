{
 "cells": [
  {
   "cell_type": "markdown",
   "metadata": {},
   "source": [
    "# Car Price Prediction Model - Loading and Usage\n",
    "\n",
    "This notebook demonstrates how to load and use the saved car price prediction model."
   ]
  },
  {
   "cell_type": "code",
   "execution_count": 1,
   "metadata": {},
   "outputs": [],
   "source": [
    "# Import necessary libraries\n",
    "import joblib\n",
    "import pandas as pd\n",
    "import numpy as np\n",
    "import matplotlib.pyplot as plt\n",
    "import seaborn as sns"
   ]
  },
  {
   "cell_type": "code",
   "execution_count": 2,
   "metadata": {},
   "outputs": [
    {
     "name": "stdout",
     "output_type": "stream",
     "text": [
      "Model loaded successfully!\n"
     ]
    }
   ],
   "source": [
    "# Load the saved model\n",
    "model = joblib.load('car_Pred_Model.pkl')\n",
    "print('Model loaded successfully!')"
   ]
  },
  {
   "cell_type": "markdown",
   "metadata": {},
   "source": [
    "## Using the model for predictions\n",
    "\n",
    "You can use the model to make predictions on new data."
   ]
  },
  {
   "cell_type": "code",
   "execution_count": 5,
   "metadata": {},
   "outputs": [
    {
     "name": "stdout",
     "output_type": "stream",
     "text": [
      "Predicted car price: $14,234.51\n"
     ]
    }
   ],
   "source": [
    "# Example: Load your test data\n",
    "# test_data = pd.read_csv('test_data.csv')\n",
    "\n",
    "# Or create a sample car for prediction\n",
    "sample_car = pd.DataFrame({\n",
    "    'Brand': ['Toyota'],\n",
    "    'Model': ['Camry'],\n",
    "    'Year': [2022],\n",
    "    'Engine_Size': [2.5],\n",
    "    'Fuel_Type': ['Gasoline'],\n",
    "    'Transmission': ['Automatic'],\n",
    "    'Mileage': [10000],\n",
    "    'Doors': [4],\n",
    "    'Owner_Count': [1],\n",
    "    'Age': [3]  # Current year (2025) - 2022\n",
    "})\n",
    "\n",
    "# Make a prediction\n",
    "predicted_price = model.predict(sample_car)\n",
    "print(f'Predicted car price: ${predicted_price[0]:,.2f}')"
   ]
  },
  {
   "cell_type": "markdown",
   "metadata": {},
   "source": [
    "## Model Evaluation\n",
    "\n",
    "If you have test data with actual prices, you can evaluate the model's performance."
   ]
  },
  {
   "cell_type": "code",
   "execution_count": 6,
   "metadata": {},
   "outputs": [],
   "source": [
    "# Load test data with actual prices\n",
    "# test_data = pd.read_csv('test_data_with_prices.csv')\n",
    "# X_test = test_data.drop('Price', axis=1)\n",
    "# y_test = test_data['Price']\n",
    "\n",
    "# Make predictions\n",
    "# y_pred = model.predict(X_test)\n",
    "\n",
    "# Calculate metrics\n",
    "# from sklearn.metrics import mean_squared_error, r2_score, mean_absolute_error\n",
    "# import numpy as np\n",
    "\n",
    "# rmse = np.sqrt(mean_squared_error(y_test, y_pred))\n",
    "# r2 = r2_score(y_test, y_pred)\n",
    "# mae = mean_absolute_error(y_test, y_pred)\n",
    "\n",
    "# print(f'Root Mean Squared Error (RMSE): ${rmse:.2f}')\n",
    "# print(f'R-squared (R�): {r2:.4f}')\n",
    "# print(f'Mean Absolute Error (MAE): ${mae:.2f}')"
   ]
  }
 ],
 "metadata": {
  "kernelspec": {
   "display_name": "base",
   "language": "python",
   "name": "python3"
  },
  "language_info": {
   "codemirror_mode": {
    "name": "ipython",
    "version": 3
   },
   "file_extension": ".py",
   "mimetype": "text/x-python",
   "name": "python",
   "nbconvert_exporter": "python",
   "pygments_lexer": "ipython3",
   "version": "3.12.7"
  }
 },
 "nbformat": 4,
 "nbformat_minor": 4
}
